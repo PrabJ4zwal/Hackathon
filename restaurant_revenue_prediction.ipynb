{
 "cells": [
  {
   "cell_type": "markdown",
   "id": "010ed07f-7506-4b09-95a5-b6dc9638ef20",
   "metadata": {},
   "source": [
    "\n",
    "# Project 5: Hackathon\n",
    "Emily & Prab\n",
    "\n",
    "DSB-318\n",
    "\n",
    "May 31, 2024\n",
    "\n",
    "Restaurant Revenue Predictions"
   ]
  },
  {
   "cell_type": "code",
   "execution_count": 1,
   "id": "edfc4fc5-f760-461b-8c88-3b2079119129",
   "metadata": {},
   "outputs": [],
   "source": [
    "# Imports\n",
    "import pandas as pd\n",
    "import numpy as np\n",
    "import matplotlib.pyplot as plt\n",
    "import seaborn as sns\n",
    "from sklearn.linear_model import LinearRegression, LogisticRegression, LassoCV\n",
    "from sklearn.metrics import mean_squared_error, mean_absolute_error\n",
    "import os\n",
    "from sklearn.model_selection import train_test_split\n",
    "from sklearn.preprocessing import OneHotEncoder, StandardScaler\n",
    "from sklearn.compose import ColumnTransformer\n",
    "from sklearn.pipeline import Pipeline"
   ]
  },
  {
   "cell_type": "code",
   "execution_count": 2,
   "id": "d7341f2e-8852-46d3-9941-2206efea42e9",
   "metadata": {},
   "outputs": [],
   "source": [
    "# Function Definitions\n",
    "# Imports\n",
    "import pandas as pd\n",
    "import time\n",
    "import os\n",
    "import matplotlib.pyplot as plt\n",
    "import seaborn as sns\n",
    "from datetime import datetime, date, time\n",
    "from string import capwords\n",
    "\n",
    "# Define my_date()\n",
    "def my_date():\n",
    "  return datetime.now().strftime('%Y-%m-%d_h%H-m%M-s%S')\n",
    "my_date()\n",
    "\n",
    "# Define autoplots()\n",
    "def autoplots(d, y, line = False):\n",
    "  '''a function to make a ton of graphs.\n",
    "  Each plot is based on a subset of d where all variables in the\n",
    "  plot have no null values.  The size of this subset (n) is \n",
    "  displayed in the subtitle of the plot, and can be used \n",
    "  similarly to d.isnull().sum(), if desired.\n",
    "  \n",
    "  args:\n",
    "    d: dataframe, the dataframe of the information\n",
    "    y: string, the name of the column within the dataframe that is the target\n",
    "    line: bool, whether to plot line graphs, default = False\n",
    "  return:\n",
    "    a ton of plots in a FOLDER\n",
    "  raise:\n",
    "    pls no'''\n",
    "  \n",
    "  # Need these\n",
    "  from string import capwords\n",
    "  import matplotlib.pyplot as plt\n",
    "  import seaborn as sns\n",
    "  \n",
    "  # Make a folder \n",
    "  try: \n",
    "    os.mkdir('images')\n",
    "  except:\n",
    "    pass\n",
    "  a = f'images/plots_{my_date()}'\n",
    "  os.mkdir(a)\n",
    "  \n",
    "  # Define this once\n",
    "  n_grand = len(d[y])\n",
    "  print(n_grand)\n",
    "  # in future versions, I'd like to raise a warning\n",
    "  # if len(d[y])!=len(d[d[y].notna()])    \n",
    "  # (i.e., if there are nulls in the target)\n",
    "  \n",
    "  # Give y a good(ish) name\n",
    "  ty = capwords(y.replace('_', ' '))\n",
    "  print(ty)\n",
    "  \n",
    "  # Plot the distributions of all variables\n",
    "  for i in d.columns:\n",
    "    print(i)\n",
    "    # Give it a good(ish) name\n",
    "    t = capwords(i.replace('_', ' '))\n",
    "    print(t)\n",
    "    \n",
    "    # Extract the subset dataframe, drop NAs, get n\n",
    "    df = d[i]\n",
    "    print(df.shape)\n",
    "    df.dropna(inplace = True)\n",
    "    n = len(df)\n",
    "    \n",
    "    # Plot a histogram of it\n",
    "    plt.figure(figsize = (16, 9));\n",
    "    plt.hist(df, bins = 'auto', color = 'purple');\n",
    "    plt.suptitle(f'Distribution of {t}', size = 24)\n",
    "    plt.title(f'Based on {n} Observations out of {n_grand}', size = 18)\n",
    "    plt.xlabel(f'{t}', size = 20);\n",
    "    plt.ylabel('Frequency', size = 20);\n",
    "    plt.xticks(size = 16, rotation = 60);\n",
    "    plt.yticks(size = 16)\n",
    "    #plt.tight_layout()\n",
    "    plt.savefig(f'./{a}/{i}_histogram.png')\n",
    "    plt.close()\n",
    "    \n",
    "    # Plot a boxplot of it\n",
    "    plt.figure(figsize = (16, 9))\n",
    "    sns.boxplot(data = df, color = 'purple', orient = 'h')\n",
    "    plt.suptitle(f'Distribution of {t}', size = 24)\n",
    "    plt.title(f'Based on {n} Observations out of {n_grand}', size = 18)\n",
    "    plt.xlabel(f'{t}', size = 20);\n",
    "    plt.xticks(size = 16, rotation = 60)\n",
    "    #plt.tight_layout()\n",
    "    plt.savefig(f'./{a}/{i}_boxplot.png')\n",
    "    plt.close()\n",
    "    \n",
    "  # Drop y from the list\n",
    "  X = [col for col in list(d.drop(columns = [y]).columns)]\n",
    "  \n",
    "  # Make plots of each x against y\n",
    "  for i in X:\n",
    "    # Give it a good(ish) name\n",
    "    t = capwords(i.replace('_', ' '))\n",
    "    print(t)\n",
    "    \n",
    "    # Extract the subset dataframe, drop NAs, get n\n",
    "    df = d[[i, y]]\n",
    "    df.dropna(inplace = True)\n",
    "    n = len(df[y])\n",
    "    \n",
    "    # Plot a scatterplot of it against y\n",
    "    plt.figure(figsize = (16, 9))\n",
    "    plt.scatter(df[i], df[y], alpha = 0.5, color = 'purple')\n",
    "    plt.suptitle(f'Relationship between {t} and {ty}', size = 24)\n",
    "    plt.title(f'Based on {n} Observations out of {n_grand}', size = 18)\n",
    "    plt.xlabel(f'{t}', size = 20);\n",
    "    plt.ylabel(f'{ty}', size = 20);\n",
    "    plt.xticks(size = 16, rotation = 60)\n",
    "    plt.yticks(size = 16)\n",
    "    # plt.tight_layout()\n",
    "    plt.savefig(f'./{a}/{t}-by-{y}_scatterplot.png')\n",
    "    plt.close()\n",
    "    \n",
    "    # Plot a line plot of it against y\n",
    "    if line==True:\n",
    "      plt.figure(figsize = (16, 9))\n",
    "      plt.plot(i, y, data = df, color = 'purple')\n",
    "      plt.suptitle(f'Relationship between {t} and {ty}', size = 24)\n",
    "      plt.title(f'Based on {n} Observations out of {n_grand}', size = 18)\n",
    "      plt.xlabel(f'{t}', size = 20);\n",
    "      plt.ylabel(f'{ty}', size = 20);\n",
    "      plt.xticks(size = 16, rotation = 60)\n",
    "      plt.yticks(size = 16)\n",
    "      # plt.tight_layout()\n",
    "      plt.savefig(f'./{a}/{i}-by-{y}_lineplot.png')\n",
    "      plt.close()\n",
    "    \n",
    "  # All together now\n",
    "  n = len(d[y])\n",
    "  \n",
    "  # Plot a line plot of everything against y\n",
    "  if line==True:\n",
    "    plt.figure(figsize = (16, 9))\n",
    "    for i in X:\n",
    "      print(i)\n",
    "      plt.plot(i, y, data = d)\n",
    "    plt.suptitle(f'Relationship between Predictors and {ty}', size = 24)\n",
    "    plt.title(f'Based on {n_grand} Observations out of {n_grand}', size = 18)\n",
    "    plt.xlabel(f'{t}', size = 20);\n",
    "    plt.ylabel(f'{ty}', size = 20);\n",
    "    plt.xticks(size = 16, rotation = 60)\n",
    "    plt.yticks(size = 16)\n",
    "    plt.legend();\n",
    "    # plt.tight_layout()\n",
    "    plt.savefig(f'./{a}/all-by-{y}_lineplot.png')\n",
    "    plt.close()\n",
    "  \n",
    "  # Get some correlations\n",
    "  corr = round(d.corr(numeric_only = True), 2)\n",
    "  \n",
    "  # Plot a heatmap\n",
    "  mask = np.zeros_like(corr)\n",
    "  mask[np.triu_indices_from(mask)] = True\n",
    "  plt.figure(figsize = (16, 9))\n",
    "  sns.heatmap(corr, square = True, \n",
    "    annot = True, cmap = 'coolwarm', mask = mask);\n",
    "  plt.suptitle(f'Relationships Between Variables', size = 24)\n",
    "  plt.title(f'Based on {n_grand} Observations out of {n_grand}', size = 18)\n",
    "  # plt.tight_layout()\n",
    "  plt.savefig(f'./{a}/all_heatmap.png')\n",
    "  plt.close()\n",
    "  \n",
    "  # Plot a heatmap column on y\n",
    "  if y in corr:\n",
    "    plt.figure(figsize = (16, 9))\n",
    "    sns.heatmap(np.asarray([corr[y].sort_values(ascending = False)]).T, \n",
    "      vmin = 0, vmax = 1, annot = True, cmap = 'coolwarm')\n",
    "    plt.suptitle(f'Relationship between Predictors and {ty}', size = 24)\n",
    "    plt.title(f'Based on {n_grand} Observations out of {n_grand}', size = 18)\n",
    "    plt.xlabel(f'{ty}', size = 20)\n",
    "    plt.yticklabels = True\n",
    "    # plt.tight_layout()\n",
    "    plt.savefig(f'./{a}/all-by-{y}_heatmap.png')\n",
    "    plt.close()"
   ]
  },
  {
   "cell_type": "code",
   "execution_count": 3,
   "id": "22e40eb2-9019-4470-b9b1-f51fa5201255",
   "metadata": {},
   "outputs": [],
   "source": [
    "# Data \n",
    "data = pd.read_csv('train.csv')"
   ]
  },
  {
   "cell_type": "code",
   "execution_count": 4,
   "id": "8d24070a-6272-47b9-952b-62dcda935503",
   "metadata": {},
   "outputs": [
    {
     "name": "stdout",
     "output_type": "stream",
     "text": [
      "<class 'pandas.core.frame.DataFrame'>\n",
      "RangeIndex: 137 entries, 0 to 136\n",
      "Data columns (total 43 columns):\n",
      " #   Column      Non-Null Count  Dtype  \n",
      "---  ------      --------------  -----  \n",
      " 0   Id          137 non-null    int64  \n",
      " 1   Open Date   137 non-null    object \n",
      " 2   City        137 non-null    object \n",
      " 3   City Group  137 non-null    object \n",
      " 4   Type        137 non-null    object \n",
      " 5   P1          137 non-null    int64  \n",
      " 6   P2          137 non-null    float64\n",
      " 7   P3          137 non-null    float64\n",
      " 8   P4          137 non-null    float64\n",
      " 9   P5          137 non-null    int64  \n",
      " 10  P6          137 non-null    int64  \n",
      " 11  P7          137 non-null    int64  \n",
      " 12  P8          137 non-null    int64  \n",
      " 13  P9          137 non-null    int64  \n",
      " 14  P10         137 non-null    int64  \n",
      " 15  P11         137 non-null    int64  \n",
      " 16  P12         137 non-null    int64  \n",
      " 17  P13         137 non-null    float64\n",
      " 18  P14         137 non-null    int64  \n",
      " 19  P15         137 non-null    int64  \n",
      " 20  P16         137 non-null    int64  \n",
      " 21  P17         137 non-null    int64  \n",
      " 22  P18         137 non-null    int64  \n",
      " 23  P19         137 non-null    int64  \n",
      " 24  P20         137 non-null    int64  \n",
      " 25  P21         137 non-null    int64  \n",
      " 26  P22         137 non-null    int64  \n",
      " 27  P23         137 non-null    int64  \n",
      " 28  P24         137 non-null    int64  \n",
      " 29  P25         137 non-null    int64  \n",
      " 30  P26         137 non-null    float64\n",
      " 31  P27         137 non-null    float64\n",
      " 32  P28         137 non-null    float64\n",
      " 33  P29         137 non-null    float64\n",
      " 34  P30         137 non-null    int64  \n",
      " 35  P31         137 non-null    int64  \n",
      " 36  P32         137 non-null    int64  \n",
      " 37  P33         137 non-null    int64  \n",
      " 38  P34         137 non-null    int64  \n",
      " 39  P35         137 non-null    int64  \n",
      " 40  P36         137 non-null    int64  \n",
      " 41  P37         137 non-null    int64  \n",
      " 42  revenue     137 non-null    float64\n",
      "dtypes: float64(9), int64(30), object(4)\n",
      "memory usage: 46.2+ KB\n"
     ]
    }
   ],
   "source": [
    "# Data Cleaning\n",
    "data.isna().sum().sum() # 0, hooray!\n",
    "data.info()\n"
   ]
  },
  {
   "cell_type": "code",
   "execution_count": 5,
   "id": "8fd1ce56-60d7-462a-a717-e6681ce2f3d3",
   "metadata": {},
   "outputs": [],
   "source": [
    "# Column names\n",
    "col_names = [c.lower().replace(' ', '_') for c in list(data.columns)]\n",
    "data.columns = col_names"
   ]
  },
  {
   "cell_type": "code",
   "execution_count": 6,
   "id": "65fd88b5-7009-4812-97fc-def37ad73bd7",
   "metadata": {},
   "outputs": [],
   "source": [
    "# Dtype conversions\n",
    "data['open_date'] = pd.to_datetime(data['open_date'])"
   ]
  },
  {
   "cell_type": "code",
   "execution_count": 7,
   "id": "1866780c-c442-491b-a2df-11a5c235b964",
   "metadata": {},
   "outputs": [
    {
     "data": {
      "text/plain": [
       "3"
      ]
     },
     "execution_count": 7,
     "metadata": {},
     "output_type": "execute_result"
    }
   ],
   "source": [
    "# Are these worth including?\n",
    "data['city'].nunique() # 37 is too many for the number of rows we have\n",
    "data['city_group'].nunique()\n",
    "data['type'].nunique()"
   ]
  },
  {
   "cell_type": "code",
   "execution_count": 8,
   "id": "bad7a5ba-4bf6-4414-a5de-74469c245e95",
   "metadata": {},
   "outputs": [
    {
     "data": {
      "text/plain": [
       "array(['IL', 'FC', 'DT'], dtype=object)"
      ]
     },
     "execution_count": 8,
     "metadata": {},
     "output_type": "execute_result"
    }
   ],
   "source": [
    "data['city'].unique()\n",
    "data['city_group'].unique()\n",
    "data['type'].unique()\n",
    "# FC: Food Court, IL: Inline, DT: Drive Thru, MB: Mobile\n",
    "# inline = in store, like a freestanding one\n",
    "# mobile = burger truck or something (we don't have any of these)"
   ]
  },
  {
   "cell_type": "code",
   "execution_count": 9,
   "id": "962a692f-4c85-43a3-b0f2-a49f10804203",
   "metadata": {},
   "outputs": [],
   "source": [
    "# The city column is not useful for us\n",
    "# data_backup = data.copy()  # make a copy, we're going to drop city for modelling\n",
    "data.drop(columns = 'city', inplace = True)"
   ]
  },
  {
   "cell_type": "code",
   "execution_count": 10,
   "id": "662fd52b-ea30-4386-b94e-1e974c16b352",
   "metadata": {},
   "outputs": [
    {
     "data": {
      "text/plain": [
       "type\n",
       "FC    76\n",
       "IL    60\n",
       "DT     1\n",
       "Name: count, dtype: int64"
      ]
     },
     "execution_count": 10,
     "metadata": {},
     "output_type": "execute_result"
    }
   ],
   "source": [
    "# What are the distributions here?\n",
    "data['city_group'].value_counts(dropna = False) #fine\n",
    "data['type'].value_counts(dropna = False) # bad!"
   ]
  },
  {
   "cell_type": "code",
   "execution_count": 11,
   "id": "b5a9ab38-a00a-48ad-a6ec-fb5a0d243200",
   "metadata": {},
   "outputs": [],
   "source": [
    "# Binarize type because of weird proportions\n",
    "data['fc_type'] = [1 if t=='FC' else 0 for t in data['type']]\n",
    "data[['type', 'fc_type']] #check\n",
    "# Drop the old column\n",
    "data.drop(columns = 'type', inplace = True)"
   ]
  },
  {
   "cell_type": "code",
   "execution_count": 12,
   "id": "5041fda3-001f-47ab-953e-61b4dc0be254",
   "metadata": {},
   "outputs": [],
   "source": [
    "# Binarize city_group because why import OHE and all that for just this\n",
    "data['city_group_ohe'] = [1 if t=='Big Cities' else 0 for t in data['city_group']]\n",
    "data[['city_group', 'city_group_ohe']] #check\n",
    "# Drop the old column\n",
    "data.drop(columns = 'city_group', inplace = True)"
   ]
  },
  {
   "cell_type": "code",
   "execution_count": 13,
   "id": "48b704de-caf0-408d-beb4-0f53c11abd58",
   "metadata": {},
   "outputs": [
    {
     "name": "stdout",
     "output_type": "stream",
     "text": [
      "<class 'pandas.core.frame.DataFrame'>\n",
      "RangeIndex: 137 entries, 0 to 136\n",
      "Data columns (total 42 columns):\n",
      " #   Column          Non-Null Count  Dtype         \n",
      "---  ------          --------------  -----         \n",
      " 0   id              137 non-null    int64         \n",
      " 1   open_date       137 non-null    datetime64[ns]\n",
      " 2   p1              137 non-null    int64         \n",
      " 3   p2              137 non-null    float64       \n",
      " 4   p3              137 non-null    float64       \n",
      " 5   p4              137 non-null    float64       \n",
      " 6   p5              137 non-null    int64         \n",
      " 7   p6              137 non-null    int64         \n",
      " 8   p7              137 non-null    int64         \n",
      " 9   p8              137 non-null    int64         \n",
      " 10  p9              137 non-null    int64         \n",
      " 11  p10             137 non-null    int64         \n",
      " 12  p11             137 non-null    int64         \n",
      " 13  p12             137 non-null    int64         \n",
      " 14  p13             137 non-null    float64       \n",
      " 15  p14             137 non-null    int64         \n",
      " 16  p15             137 non-null    int64         \n",
      " 17  p16             137 non-null    int64         \n",
      " 18  p17             137 non-null    int64         \n",
      " 19  p18             137 non-null    int64         \n",
      " 20  p19             137 non-null    int64         \n",
      " 21  p20             137 non-null    int64         \n",
      " 22  p21             137 non-null    int64         \n",
      " 23  p22             137 non-null    int64         \n",
      " 24  p23             137 non-null    int64         \n",
      " 25  p24             137 non-null    int64         \n",
      " 26  p25             137 non-null    int64         \n",
      " 27  p26             137 non-null    float64       \n",
      " 28  p27             137 non-null    float64       \n",
      " 29  p28             137 non-null    float64       \n",
      " 30  p29             137 non-null    float64       \n",
      " 31  p30             137 non-null    int64         \n",
      " 32  p31             137 non-null    int64         \n",
      " 33  p32             137 non-null    int64         \n",
      " 34  p33             137 non-null    int64         \n",
      " 35  p34             137 non-null    int64         \n",
      " 36  p35             137 non-null    int64         \n",
      " 37  p36             137 non-null    int64         \n",
      " 38  p37             137 non-null    int64         \n",
      " 39  revenue         137 non-null    float64       \n",
      " 40  fc_type         137 non-null    int64         \n",
      " 41  city_group_ohe  137 non-null    int64         \n",
      "dtypes: datetime64[ns](1), float64(9), int64(32)\n",
      "memory usage: 45.1 KB\n"
     ]
    }
   ],
   "source": [
    "# Check this again\n",
    "data.info()"
   ]
  },
  {
   "cell_type": "code",
   "execution_count": 14,
   "id": "5bbda8bc-e6b4-470c-9769-6033f8189451",
   "metadata": {},
   "outputs": [
    {
     "name": "stdout",
     "output_type": "stream",
     "text": [
      "137\n",
      "Revenue\n",
      "id\n",
      "Id\n",
      "(137,)\n",
      "open_date\n",
      "Open Date\n",
      "(137,)\n",
      "p1\n",
      "P1\n",
      "(137,)\n",
      "p2\n",
      "P2\n",
      "(137,)\n",
      "p3\n",
      "P3\n",
      "(137,)\n",
      "p4\n",
      "P4\n",
      "(137,)\n",
      "p5\n",
      "P5\n",
      "(137,)\n",
      "p6\n",
      "P6\n",
      "(137,)\n",
      "p7\n",
      "P7\n",
      "(137,)\n",
      "p8\n",
      "P8\n",
      "(137,)\n",
      "p9\n",
      "P9\n",
      "(137,)\n",
      "p10\n",
      "P10\n",
      "(137,)\n",
      "p11\n",
      "P11\n",
      "(137,)\n",
      "p12\n",
      "P12\n",
      "(137,)\n",
      "p13\n",
      "P13\n",
      "(137,)\n",
      "p14\n",
      "P14\n",
      "(137,)\n",
      "p15\n",
      "P15\n",
      "(137,)\n",
      "p16\n",
      "P16\n",
      "(137,)\n",
      "p17\n",
      "P17\n",
      "(137,)\n",
      "p18\n",
      "P18\n",
      "(137,)\n",
      "p19\n",
      "P19\n",
      "(137,)\n",
      "p20\n",
      "P20\n",
      "(137,)\n",
      "p21\n",
      "P21\n",
      "(137,)\n",
      "p22\n",
      "P22\n",
      "(137,)\n",
      "p23\n",
      "P23\n",
      "(137,)\n",
      "p24\n",
      "P24\n",
      "(137,)\n",
      "p25\n",
      "P25\n",
      "(137,)\n",
      "p26\n",
      "P26\n",
      "(137,)\n",
      "p27\n",
      "P27\n",
      "(137,)\n",
      "p28\n",
      "P28\n",
      "(137,)\n",
      "p29\n",
      "P29\n",
      "(137,)\n",
      "p30\n",
      "P30\n",
      "(137,)\n",
      "p31\n",
      "P31\n",
      "(137,)\n",
      "p32\n",
      "P32\n",
      "(137,)\n",
      "p33\n",
      "P33\n",
      "(137,)\n",
      "p34\n",
      "P34\n",
      "(137,)\n",
      "p35\n",
      "P35\n",
      "(137,)\n",
      "p36\n",
      "P36\n",
      "(137,)\n",
      "p37\n",
      "P37\n",
      "(137,)\n",
      "revenue\n",
      "Revenue\n",
      "(137,)\n",
      "fc_type\n",
      "Fc Type\n",
      "(137,)\n",
      "city_group_ohe\n",
      "City Group Ohe\n",
      "(137,)\n",
      "Id\n"
     ]
    },
    {
     "name": "stderr",
     "output_type": "stream",
     "text": [
      "C:\\Users\\emily\\AppData\\Local\\Temp\\ipykernel_22232\\1167142942.py:105: SettingWithCopyWarning: \n",
      "A value is trying to be set on a copy of a slice from a DataFrame\n",
      "\n",
      "See the caveats in the documentation: https://pandas.pydata.org/pandas-docs/stable/user_guide/indexing.html#returning-a-view-versus-a-copy\n",
      "  df.dropna(inplace = True)\n"
     ]
    },
    {
     "name": "stdout",
     "output_type": "stream",
     "text": [
      "Open Date\n"
     ]
    },
    {
     "name": "stderr",
     "output_type": "stream",
     "text": [
      "C:\\Users\\emily\\AppData\\Local\\Temp\\ipykernel_22232\\1167142942.py:105: SettingWithCopyWarning: \n",
      "A value is trying to be set on a copy of a slice from a DataFrame\n",
      "\n",
      "See the caveats in the documentation: https://pandas.pydata.org/pandas-docs/stable/user_guide/indexing.html#returning-a-view-versus-a-copy\n",
      "  df.dropna(inplace = True)\n"
     ]
    },
    {
     "name": "stdout",
     "output_type": "stream",
     "text": [
      "P1\n"
     ]
    },
    {
     "name": "stderr",
     "output_type": "stream",
     "text": [
      "C:\\Users\\emily\\AppData\\Local\\Temp\\ipykernel_22232\\1167142942.py:105: SettingWithCopyWarning: \n",
      "A value is trying to be set on a copy of a slice from a DataFrame\n",
      "\n",
      "See the caveats in the documentation: https://pandas.pydata.org/pandas-docs/stable/user_guide/indexing.html#returning-a-view-versus-a-copy\n",
      "  df.dropna(inplace = True)\n"
     ]
    },
    {
     "name": "stdout",
     "output_type": "stream",
     "text": [
      "P2\n"
     ]
    },
    {
     "name": "stderr",
     "output_type": "stream",
     "text": [
      "C:\\Users\\emily\\AppData\\Local\\Temp\\ipykernel_22232\\1167142942.py:105: SettingWithCopyWarning: \n",
      "A value is trying to be set on a copy of a slice from a DataFrame\n",
      "\n",
      "See the caveats in the documentation: https://pandas.pydata.org/pandas-docs/stable/user_guide/indexing.html#returning-a-view-versus-a-copy\n",
      "  df.dropna(inplace = True)\n"
     ]
    },
    {
     "name": "stdout",
     "output_type": "stream",
     "text": [
      "P3\n"
     ]
    },
    {
     "name": "stderr",
     "output_type": "stream",
     "text": [
      "C:\\Users\\emily\\AppData\\Local\\Temp\\ipykernel_22232\\1167142942.py:105: SettingWithCopyWarning: \n",
      "A value is trying to be set on a copy of a slice from a DataFrame\n",
      "\n",
      "See the caveats in the documentation: https://pandas.pydata.org/pandas-docs/stable/user_guide/indexing.html#returning-a-view-versus-a-copy\n",
      "  df.dropna(inplace = True)\n"
     ]
    },
    {
     "name": "stdout",
     "output_type": "stream",
     "text": [
      "P4\n"
     ]
    },
    {
     "name": "stderr",
     "output_type": "stream",
     "text": [
      "C:\\Users\\emily\\AppData\\Local\\Temp\\ipykernel_22232\\1167142942.py:105: SettingWithCopyWarning: \n",
      "A value is trying to be set on a copy of a slice from a DataFrame\n",
      "\n",
      "See the caveats in the documentation: https://pandas.pydata.org/pandas-docs/stable/user_guide/indexing.html#returning-a-view-versus-a-copy\n",
      "  df.dropna(inplace = True)\n"
     ]
    },
    {
     "name": "stdout",
     "output_type": "stream",
     "text": [
      "P5\n"
     ]
    },
    {
     "name": "stderr",
     "output_type": "stream",
     "text": [
      "C:\\Users\\emily\\AppData\\Local\\Temp\\ipykernel_22232\\1167142942.py:105: SettingWithCopyWarning: \n",
      "A value is trying to be set on a copy of a slice from a DataFrame\n",
      "\n",
      "See the caveats in the documentation: https://pandas.pydata.org/pandas-docs/stable/user_guide/indexing.html#returning-a-view-versus-a-copy\n",
      "  df.dropna(inplace = True)\n"
     ]
    },
    {
     "name": "stdout",
     "output_type": "stream",
     "text": [
      "P6\n"
     ]
    },
    {
     "name": "stderr",
     "output_type": "stream",
     "text": [
      "C:\\Users\\emily\\AppData\\Local\\Temp\\ipykernel_22232\\1167142942.py:105: SettingWithCopyWarning: \n",
      "A value is trying to be set on a copy of a slice from a DataFrame\n",
      "\n",
      "See the caveats in the documentation: https://pandas.pydata.org/pandas-docs/stable/user_guide/indexing.html#returning-a-view-versus-a-copy\n",
      "  df.dropna(inplace = True)\n"
     ]
    },
    {
     "name": "stdout",
     "output_type": "stream",
     "text": [
      "P7\n"
     ]
    },
    {
     "name": "stderr",
     "output_type": "stream",
     "text": [
      "C:\\Users\\emily\\AppData\\Local\\Temp\\ipykernel_22232\\1167142942.py:105: SettingWithCopyWarning: \n",
      "A value is trying to be set on a copy of a slice from a DataFrame\n",
      "\n",
      "See the caveats in the documentation: https://pandas.pydata.org/pandas-docs/stable/user_guide/indexing.html#returning-a-view-versus-a-copy\n",
      "  df.dropna(inplace = True)\n"
     ]
    },
    {
     "name": "stdout",
     "output_type": "stream",
     "text": [
      "P8\n"
     ]
    },
    {
     "name": "stderr",
     "output_type": "stream",
     "text": [
      "C:\\Users\\emily\\AppData\\Local\\Temp\\ipykernel_22232\\1167142942.py:105: SettingWithCopyWarning: \n",
      "A value is trying to be set on a copy of a slice from a DataFrame\n",
      "\n",
      "See the caveats in the documentation: https://pandas.pydata.org/pandas-docs/stable/user_guide/indexing.html#returning-a-view-versus-a-copy\n",
      "  df.dropna(inplace = True)\n"
     ]
    },
    {
     "name": "stdout",
     "output_type": "stream",
     "text": [
      "P9\n"
     ]
    },
    {
     "name": "stderr",
     "output_type": "stream",
     "text": [
      "C:\\Users\\emily\\AppData\\Local\\Temp\\ipykernel_22232\\1167142942.py:105: SettingWithCopyWarning: \n",
      "A value is trying to be set on a copy of a slice from a DataFrame\n",
      "\n",
      "See the caveats in the documentation: https://pandas.pydata.org/pandas-docs/stable/user_guide/indexing.html#returning-a-view-versus-a-copy\n",
      "  df.dropna(inplace = True)\n"
     ]
    },
    {
     "name": "stdout",
     "output_type": "stream",
     "text": [
      "P10\n"
     ]
    },
    {
     "name": "stderr",
     "output_type": "stream",
     "text": [
      "C:\\Users\\emily\\AppData\\Local\\Temp\\ipykernel_22232\\1167142942.py:105: SettingWithCopyWarning: \n",
      "A value is trying to be set on a copy of a slice from a DataFrame\n",
      "\n",
      "See the caveats in the documentation: https://pandas.pydata.org/pandas-docs/stable/user_guide/indexing.html#returning-a-view-versus-a-copy\n",
      "  df.dropna(inplace = True)\n"
     ]
    },
    {
     "name": "stdout",
     "output_type": "stream",
     "text": [
      "P11\n"
     ]
    },
    {
     "name": "stderr",
     "output_type": "stream",
     "text": [
      "C:\\Users\\emily\\AppData\\Local\\Temp\\ipykernel_22232\\1167142942.py:105: SettingWithCopyWarning: \n",
      "A value is trying to be set on a copy of a slice from a DataFrame\n",
      "\n",
      "See the caveats in the documentation: https://pandas.pydata.org/pandas-docs/stable/user_guide/indexing.html#returning-a-view-versus-a-copy\n",
      "  df.dropna(inplace = True)\n"
     ]
    },
    {
     "name": "stdout",
     "output_type": "stream",
     "text": [
      "P12\n"
     ]
    },
    {
     "name": "stderr",
     "output_type": "stream",
     "text": [
      "C:\\Users\\emily\\AppData\\Local\\Temp\\ipykernel_22232\\1167142942.py:105: SettingWithCopyWarning: \n",
      "A value is trying to be set on a copy of a slice from a DataFrame\n",
      "\n",
      "See the caveats in the documentation: https://pandas.pydata.org/pandas-docs/stable/user_guide/indexing.html#returning-a-view-versus-a-copy\n",
      "  df.dropna(inplace = True)\n"
     ]
    },
    {
     "name": "stdout",
     "output_type": "stream",
     "text": [
      "P13\n"
     ]
    },
    {
     "name": "stderr",
     "output_type": "stream",
     "text": [
      "C:\\Users\\emily\\AppData\\Local\\Temp\\ipykernel_22232\\1167142942.py:105: SettingWithCopyWarning: \n",
      "A value is trying to be set on a copy of a slice from a DataFrame\n",
      "\n",
      "See the caveats in the documentation: https://pandas.pydata.org/pandas-docs/stable/user_guide/indexing.html#returning-a-view-versus-a-copy\n",
      "  df.dropna(inplace = True)\n"
     ]
    },
    {
     "name": "stdout",
     "output_type": "stream",
     "text": [
      "P14\n"
     ]
    },
    {
     "name": "stderr",
     "output_type": "stream",
     "text": [
      "C:\\Users\\emily\\AppData\\Local\\Temp\\ipykernel_22232\\1167142942.py:105: SettingWithCopyWarning: \n",
      "A value is trying to be set on a copy of a slice from a DataFrame\n",
      "\n",
      "See the caveats in the documentation: https://pandas.pydata.org/pandas-docs/stable/user_guide/indexing.html#returning-a-view-versus-a-copy\n",
      "  df.dropna(inplace = True)\n"
     ]
    },
    {
     "name": "stdout",
     "output_type": "stream",
     "text": [
      "P15\n"
     ]
    },
    {
     "name": "stderr",
     "output_type": "stream",
     "text": [
      "C:\\Users\\emily\\AppData\\Local\\Temp\\ipykernel_22232\\1167142942.py:105: SettingWithCopyWarning: \n",
      "A value is trying to be set on a copy of a slice from a DataFrame\n",
      "\n",
      "See the caveats in the documentation: https://pandas.pydata.org/pandas-docs/stable/user_guide/indexing.html#returning-a-view-versus-a-copy\n",
      "  df.dropna(inplace = True)\n"
     ]
    },
    {
     "name": "stdout",
     "output_type": "stream",
     "text": [
      "P16\n"
     ]
    },
    {
     "name": "stderr",
     "output_type": "stream",
     "text": [
      "C:\\Users\\emily\\AppData\\Local\\Temp\\ipykernel_22232\\1167142942.py:105: SettingWithCopyWarning: \n",
      "A value is trying to be set on a copy of a slice from a DataFrame\n",
      "\n",
      "See the caveats in the documentation: https://pandas.pydata.org/pandas-docs/stable/user_guide/indexing.html#returning-a-view-versus-a-copy\n",
      "  df.dropna(inplace = True)\n"
     ]
    },
    {
     "name": "stdout",
     "output_type": "stream",
     "text": [
      "P17\n"
     ]
    },
    {
     "name": "stderr",
     "output_type": "stream",
     "text": [
      "C:\\Users\\emily\\AppData\\Local\\Temp\\ipykernel_22232\\1167142942.py:105: SettingWithCopyWarning: \n",
      "A value is trying to be set on a copy of a slice from a DataFrame\n",
      "\n",
      "See the caveats in the documentation: https://pandas.pydata.org/pandas-docs/stable/user_guide/indexing.html#returning-a-view-versus-a-copy\n",
      "  df.dropna(inplace = True)\n"
     ]
    },
    {
     "name": "stdout",
     "output_type": "stream",
     "text": [
      "P18\n"
     ]
    },
    {
     "name": "stderr",
     "output_type": "stream",
     "text": [
      "C:\\Users\\emily\\AppData\\Local\\Temp\\ipykernel_22232\\1167142942.py:105: SettingWithCopyWarning: \n",
      "A value is trying to be set on a copy of a slice from a DataFrame\n",
      "\n",
      "See the caveats in the documentation: https://pandas.pydata.org/pandas-docs/stable/user_guide/indexing.html#returning-a-view-versus-a-copy\n",
      "  df.dropna(inplace = True)\n"
     ]
    },
    {
     "name": "stdout",
     "output_type": "stream",
     "text": [
      "P19\n"
     ]
    },
    {
     "name": "stderr",
     "output_type": "stream",
     "text": [
      "C:\\Users\\emily\\AppData\\Local\\Temp\\ipykernel_22232\\1167142942.py:105: SettingWithCopyWarning: \n",
      "A value is trying to be set on a copy of a slice from a DataFrame\n",
      "\n",
      "See the caveats in the documentation: https://pandas.pydata.org/pandas-docs/stable/user_guide/indexing.html#returning-a-view-versus-a-copy\n",
      "  df.dropna(inplace = True)\n"
     ]
    },
    {
     "name": "stdout",
     "output_type": "stream",
     "text": [
      "P20\n"
     ]
    },
    {
     "name": "stderr",
     "output_type": "stream",
     "text": [
      "C:\\Users\\emily\\AppData\\Local\\Temp\\ipykernel_22232\\1167142942.py:105: SettingWithCopyWarning: \n",
      "A value is trying to be set on a copy of a slice from a DataFrame\n",
      "\n",
      "See the caveats in the documentation: https://pandas.pydata.org/pandas-docs/stable/user_guide/indexing.html#returning-a-view-versus-a-copy\n",
      "  df.dropna(inplace = True)\n"
     ]
    },
    {
     "name": "stdout",
     "output_type": "stream",
     "text": [
      "P21\n"
     ]
    },
    {
     "name": "stderr",
     "output_type": "stream",
     "text": [
      "C:\\Users\\emily\\AppData\\Local\\Temp\\ipykernel_22232\\1167142942.py:105: SettingWithCopyWarning: \n",
      "A value is trying to be set on a copy of a slice from a DataFrame\n",
      "\n",
      "See the caveats in the documentation: https://pandas.pydata.org/pandas-docs/stable/user_guide/indexing.html#returning-a-view-versus-a-copy\n",
      "  df.dropna(inplace = True)\n"
     ]
    },
    {
     "name": "stdout",
     "output_type": "stream",
     "text": [
      "P22\n"
     ]
    },
    {
     "name": "stderr",
     "output_type": "stream",
     "text": [
      "C:\\Users\\emily\\AppData\\Local\\Temp\\ipykernel_22232\\1167142942.py:105: SettingWithCopyWarning: \n",
      "A value is trying to be set on a copy of a slice from a DataFrame\n",
      "\n",
      "See the caveats in the documentation: https://pandas.pydata.org/pandas-docs/stable/user_guide/indexing.html#returning-a-view-versus-a-copy\n",
      "  df.dropna(inplace = True)\n"
     ]
    },
    {
     "name": "stdout",
     "output_type": "stream",
     "text": [
      "P23\n"
     ]
    },
    {
     "name": "stderr",
     "output_type": "stream",
     "text": [
      "C:\\Users\\emily\\AppData\\Local\\Temp\\ipykernel_22232\\1167142942.py:105: SettingWithCopyWarning: \n",
      "A value is trying to be set on a copy of a slice from a DataFrame\n",
      "\n",
      "See the caveats in the documentation: https://pandas.pydata.org/pandas-docs/stable/user_guide/indexing.html#returning-a-view-versus-a-copy\n",
      "  df.dropna(inplace = True)\n"
     ]
    },
    {
     "name": "stdout",
     "output_type": "stream",
     "text": [
      "P24\n",
      "P25\n"
     ]
    },
    {
     "name": "stderr",
     "output_type": "stream",
     "text": [
      "C:\\Users\\emily\\AppData\\Local\\Temp\\ipykernel_22232\\1167142942.py:105: SettingWithCopyWarning: \n",
      "A value is trying to be set on a copy of a slice from a DataFrame\n",
      "\n",
      "See the caveats in the documentation: https://pandas.pydata.org/pandas-docs/stable/user_guide/indexing.html#returning-a-view-versus-a-copy\n",
      "  df.dropna(inplace = True)\n",
      "C:\\Users\\emily\\AppData\\Local\\Temp\\ipykernel_22232\\1167142942.py:105: SettingWithCopyWarning: \n",
      "A value is trying to be set on a copy of a slice from a DataFrame\n",
      "\n",
      "See the caveats in the documentation: https://pandas.pydata.org/pandas-docs/stable/user_guide/indexing.html#returning-a-view-versus-a-copy\n",
      "  df.dropna(inplace = True)\n"
     ]
    },
    {
     "name": "stdout",
     "output_type": "stream",
     "text": [
      "P26\n"
     ]
    },
    {
     "name": "stderr",
     "output_type": "stream",
     "text": [
      "C:\\Users\\emily\\AppData\\Local\\Temp\\ipykernel_22232\\1167142942.py:105: SettingWithCopyWarning: \n",
      "A value is trying to be set on a copy of a slice from a DataFrame\n",
      "\n",
      "See the caveats in the documentation: https://pandas.pydata.org/pandas-docs/stable/user_guide/indexing.html#returning-a-view-versus-a-copy\n",
      "  df.dropna(inplace = True)\n"
     ]
    },
    {
     "name": "stdout",
     "output_type": "stream",
     "text": [
      "P27\n"
     ]
    },
    {
     "name": "stderr",
     "output_type": "stream",
     "text": [
      "C:\\Users\\emily\\AppData\\Local\\Temp\\ipykernel_22232\\1167142942.py:105: SettingWithCopyWarning: \n",
      "A value is trying to be set on a copy of a slice from a DataFrame\n",
      "\n",
      "See the caveats in the documentation: https://pandas.pydata.org/pandas-docs/stable/user_guide/indexing.html#returning-a-view-versus-a-copy\n",
      "  df.dropna(inplace = True)\n"
     ]
    },
    {
     "name": "stdout",
     "output_type": "stream",
     "text": [
      "P28\n"
     ]
    },
    {
     "name": "stderr",
     "output_type": "stream",
     "text": [
      "C:\\Users\\emily\\AppData\\Local\\Temp\\ipykernel_22232\\1167142942.py:105: SettingWithCopyWarning: \n",
      "A value is trying to be set on a copy of a slice from a DataFrame\n",
      "\n",
      "See the caveats in the documentation: https://pandas.pydata.org/pandas-docs/stable/user_guide/indexing.html#returning-a-view-versus-a-copy\n",
      "  df.dropna(inplace = True)\n"
     ]
    },
    {
     "name": "stdout",
     "output_type": "stream",
     "text": [
      "P29\n"
     ]
    },
    {
     "name": "stderr",
     "output_type": "stream",
     "text": [
      "C:\\Users\\emily\\AppData\\Local\\Temp\\ipykernel_22232\\1167142942.py:105: SettingWithCopyWarning: \n",
      "A value is trying to be set on a copy of a slice from a DataFrame\n",
      "\n",
      "See the caveats in the documentation: https://pandas.pydata.org/pandas-docs/stable/user_guide/indexing.html#returning-a-view-versus-a-copy\n",
      "  df.dropna(inplace = True)\n"
     ]
    },
    {
     "name": "stdout",
     "output_type": "stream",
     "text": [
      "P30\n"
     ]
    },
    {
     "name": "stderr",
     "output_type": "stream",
     "text": [
      "C:\\Users\\emily\\AppData\\Local\\Temp\\ipykernel_22232\\1167142942.py:105: SettingWithCopyWarning: \n",
      "A value is trying to be set on a copy of a slice from a DataFrame\n",
      "\n",
      "See the caveats in the documentation: https://pandas.pydata.org/pandas-docs/stable/user_guide/indexing.html#returning-a-view-versus-a-copy\n",
      "  df.dropna(inplace = True)\n"
     ]
    },
    {
     "name": "stdout",
     "output_type": "stream",
     "text": [
      "P31\n"
     ]
    },
    {
     "name": "stderr",
     "output_type": "stream",
     "text": [
      "C:\\Users\\emily\\AppData\\Local\\Temp\\ipykernel_22232\\1167142942.py:105: SettingWithCopyWarning: \n",
      "A value is trying to be set on a copy of a slice from a DataFrame\n",
      "\n",
      "See the caveats in the documentation: https://pandas.pydata.org/pandas-docs/stable/user_guide/indexing.html#returning-a-view-versus-a-copy\n",
      "  df.dropna(inplace = True)\n"
     ]
    },
    {
     "name": "stdout",
     "output_type": "stream",
     "text": [
      "P32\n"
     ]
    },
    {
     "name": "stderr",
     "output_type": "stream",
     "text": [
      "C:\\Users\\emily\\AppData\\Local\\Temp\\ipykernel_22232\\1167142942.py:105: SettingWithCopyWarning: \n",
      "A value is trying to be set on a copy of a slice from a DataFrame\n",
      "\n",
      "See the caveats in the documentation: https://pandas.pydata.org/pandas-docs/stable/user_guide/indexing.html#returning-a-view-versus-a-copy\n",
      "  df.dropna(inplace = True)\n"
     ]
    },
    {
     "name": "stdout",
     "output_type": "stream",
     "text": [
      "P33\n"
     ]
    },
    {
     "name": "stderr",
     "output_type": "stream",
     "text": [
      "C:\\Users\\emily\\AppData\\Local\\Temp\\ipykernel_22232\\1167142942.py:105: SettingWithCopyWarning: \n",
      "A value is trying to be set on a copy of a slice from a DataFrame\n",
      "\n",
      "See the caveats in the documentation: https://pandas.pydata.org/pandas-docs/stable/user_guide/indexing.html#returning-a-view-versus-a-copy\n",
      "  df.dropna(inplace = True)\n"
     ]
    },
    {
     "name": "stdout",
     "output_type": "stream",
     "text": [
      "P34\n"
     ]
    },
    {
     "name": "stderr",
     "output_type": "stream",
     "text": [
      "C:\\Users\\emily\\AppData\\Local\\Temp\\ipykernel_22232\\1167142942.py:105: SettingWithCopyWarning: \n",
      "A value is trying to be set on a copy of a slice from a DataFrame\n",
      "\n",
      "See the caveats in the documentation: https://pandas.pydata.org/pandas-docs/stable/user_guide/indexing.html#returning-a-view-versus-a-copy\n",
      "  df.dropna(inplace = True)\n"
     ]
    },
    {
     "name": "stdout",
     "output_type": "stream",
     "text": [
      "P35\n"
     ]
    },
    {
     "name": "stderr",
     "output_type": "stream",
     "text": [
      "C:\\Users\\emily\\AppData\\Local\\Temp\\ipykernel_22232\\1167142942.py:105: SettingWithCopyWarning: \n",
      "A value is trying to be set on a copy of a slice from a DataFrame\n",
      "\n",
      "See the caveats in the documentation: https://pandas.pydata.org/pandas-docs/stable/user_guide/indexing.html#returning-a-view-versus-a-copy\n",
      "  df.dropna(inplace = True)\n"
     ]
    },
    {
     "name": "stdout",
     "output_type": "stream",
     "text": [
      "P36\n"
     ]
    },
    {
     "name": "stderr",
     "output_type": "stream",
     "text": [
      "C:\\Users\\emily\\AppData\\Local\\Temp\\ipykernel_22232\\1167142942.py:105: SettingWithCopyWarning: \n",
      "A value is trying to be set on a copy of a slice from a DataFrame\n",
      "\n",
      "See the caveats in the documentation: https://pandas.pydata.org/pandas-docs/stable/user_guide/indexing.html#returning-a-view-versus-a-copy\n",
      "  df.dropna(inplace = True)\n"
     ]
    },
    {
     "name": "stdout",
     "output_type": "stream",
     "text": [
      "P37\n"
     ]
    },
    {
     "name": "stderr",
     "output_type": "stream",
     "text": [
      "C:\\Users\\emily\\AppData\\Local\\Temp\\ipykernel_22232\\1167142942.py:105: SettingWithCopyWarning: \n",
      "A value is trying to be set on a copy of a slice from a DataFrame\n",
      "\n",
      "See the caveats in the documentation: https://pandas.pydata.org/pandas-docs/stable/user_guide/indexing.html#returning-a-view-versus-a-copy\n",
      "  df.dropna(inplace = True)\n"
     ]
    },
    {
     "name": "stdout",
     "output_type": "stream",
     "text": [
      "Fc Type\n"
     ]
    },
    {
     "name": "stderr",
     "output_type": "stream",
     "text": [
      "C:\\Users\\emily\\AppData\\Local\\Temp\\ipykernel_22232\\1167142942.py:105: SettingWithCopyWarning: \n",
      "A value is trying to be set on a copy of a slice from a DataFrame\n",
      "\n",
      "See the caveats in the documentation: https://pandas.pydata.org/pandas-docs/stable/user_guide/indexing.html#returning-a-view-versus-a-copy\n",
      "  df.dropna(inplace = True)\n"
     ]
    },
    {
     "name": "stdout",
     "output_type": "stream",
     "text": [
      "City Group Ohe\n"
     ]
    },
    {
     "name": "stderr",
     "output_type": "stream",
     "text": [
      "C:\\Users\\emily\\AppData\\Local\\Temp\\ipykernel_22232\\1167142942.py:105: SettingWithCopyWarning: \n",
      "A value is trying to be set on a copy of a slice from a DataFrame\n",
      "\n",
      "See the caveats in the documentation: https://pandas.pydata.org/pandas-docs/stable/user_guide/indexing.html#returning-a-view-versus-a-copy\n",
      "  df.dropna(inplace = True)\n"
     ]
    }
   ],
   "source": [
    "# Visualizations\n",
    "autoplots(data, 'revenue')"
   ]
  },
  {
   "cell_type": "code",
   "execution_count": 15,
   "id": "0e0a1801-21cb-45c0-8d7a-185b75377f53",
   "metadata": {},
   "outputs": [],
   "source": [
    "# lr won't take a datetime\n",
    "data['year'] = data['open_date'].dt.year\n",
    "data['month'] = data['open_date'].dt.month"
   ]
  },
  {
   "cell_type": "code",
   "execution_count": 16,
   "id": "4cbed446-25b3-4e1a-9130-de576b2b5ce4",
   "metadata": {},
   "outputs": [
    {
     "name": "stdout",
     "output_type": "stream",
     "text": [
      "<class 'pandas.core.frame.DataFrame'>\n",
      "RangeIndex: 137 entries, 0 to 136\n",
      "Data columns (total 44 columns):\n",
      " #   Column          Non-Null Count  Dtype         \n",
      "---  ------          --------------  -----         \n",
      " 0   id              137 non-null    int64         \n",
      " 1   open_date       137 non-null    datetime64[ns]\n",
      " 2   p1              137 non-null    int64         \n",
      " 3   p2              137 non-null    float64       \n",
      " 4   p3              137 non-null    float64       \n",
      " 5   p4              137 non-null    float64       \n",
      " 6   p5              137 non-null    int64         \n",
      " 7   p6              137 non-null    int64         \n",
      " 8   p7              137 non-null    int64         \n",
      " 9   p8              137 non-null    int64         \n",
      " 10  p9              137 non-null    int64         \n",
      " 11  p10             137 non-null    int64         \n",
      " 12  p11             137 non-null    int64         \n",
      " 13  p12             137 non-null    int64         \n",
      " 14  p13             137 non-null    float64       \n",
      " 15  p14             137 non-null    int64         \n",
      " 16  p15             137 non-null    int64         \n",
      " 17  p16             137 non-null    int64         \n",
      " 18  p17             137 non-null    int64         \n",
      " 19  p18             137 non-null    int64         \n",
      " 20  p19             137 non-null    int64         \n",
      " 21  p20             137 non-null    int64         \n",
      " 22  p21             137 non-null    int64         \n",
      " 23  p22             137 non-null    int64         \n",
      " 24  p23             137 non-null    int64         \n",
      " 25  p24             137 non-null    int64         \n",
      " 26  p25             137 non-null    int64         \n",
      " 27  p26             137 non-null    float64       \n",
      " 28  p27             137 non-null    float64       \n",
      " 29  p28             137 non-null    float64       \n",
      " 30  p29             137 non-null    float64       \n",
      " 31  p30             137 non-null    int64         \n",
      " 32  p31             137 non-null    int64         \n",
      " 33  p32             137 non-null    int64         \n",
      " 34  p33             137 non-null    int64         \n",
      " 35  p34             137 non-null    int64         \n",
      " 36  p35             137 non-null    int64         \n",
      " 37  p36             137 non-null    int64         \n",
      " 38  p37             137 non-null    int64         \n",
      " 39  revenue         137 non-null    float64       \n",
      " 40  fc_type         137 non-null    int64         \n",
      " 41  city_group_ohe  137 non-null    int64         \n",
      " 42  year            137 non-null    int32         \n",
      " 43  month           137 non-null    int32         \n",
      "dtypes: datetime64[ns](1), float64(9), int32(2), int64(32)\n",
      "memory usage: 46.2 KB\n"
     ]
    }
   ],
   "source": [
    "data.info() # awesome, they're just integers"
   ]
  },
  {
   "cell_type": "code",
   "execution_count": 17,
   "id": "82e7b56d-5753-4dfd-b107-de7f560f9111",
   "metadata": {},
   "outputs": [],
   "source": [
    "# Drop the old column\n",
    "data.drop(columns = 'open_date', inplace = True)"
   ]
  },
  {
   "cell_type": "code",
   "execution_count": 18,
   "id": "9d188b0b-3842-4719-9635-385c8ad6b1c3",
   "metadata": {},
   "outputs": [],
   "source": [
    "# Train Test Split\n",
    "# With more time, we might have checked each column in case \n",
    "# we needed to stratify, but we have short time and it's already\n",
    "# weird, so we're just plowing ahead.\n",
    "X = data.drop(columns = ['revenue', 'id'])\n",
    "y = data['revenue']"
   ]
  },
  {
   "cell_type": "code",
   "execution_count": 19,
   "id": "70e165ea-94cb-4844-a984-b378ce8b272d",
   "metadata": {},
   "outputs": [],
   "source": [
    "X_train, X_test, y_train, y_test = train_test_split(\n",
    "  X, y, test_size = 0.2, random_state = 19)  \n",
    "# 3 rings for the elven kings\n",
    "# 7 for the dwarf lords in their halls of stone\n",
    "# 9 for mortal men doomed to die"
   ]
  },
  {
   "cell_type": "code",
   "execution_count": 20,
   "id": "6976beb7-b120-4adc-b796-06682e30176e",
   "metadata": {},
   "outputs": [
    {
     "data": {
      "text/plain": [
       "(28,)"
      ]
     },
     "execution_count": 20,
     "metadata": {},
     "output_type": "execute_result"
    }
   ],
   "source": [
    "X_train.shape\n",
    "X_test.shape\n",
    "y_train.shape\n",
    "y_test.shape"
   ]
  },
  {
   "cell_type": "code",
   "execution_count": 21,
   "id": "1099689c-7cf8-4b15-b86d-a9b380816e71",
   "metadata": {},
   "outputs": [
    {
     "data": {
      "text/plain": [
       "-0.0564884312967624"
      ]
     },
     "execution_count": 21,
     "metadata": {},
     "output_type": "execute_result"
    }
   ],
   "source": [
    "# Linear Regression\n",
    "lr = LinearRegression()\n",
    "lr.fit(X_train, y_train)\n",
    "lr.score(X_train, y_train)\n",
    "lr.score(X_test, y_test)"
   ]
  },
  {
   "cell_type": "code",
   "execution_count": 22,
   "id": "c7b89ff8-1daf-4e7e-b25b-a8c3814d1df1",
   "metadata": {},
   "outputs": [
    {
     "name": "stderr",
     "output_type": "stream",
     "text": [
      "C:\\Users\\emily\\anaconda3\\Lib\\site-packages\\sklearn\\linear_model\\_coordinate_descent.py:617: ConvergenceWarning: Objective did not converge. You might want to increase the number of iterations. Duality gap: 75603138282.8125, tolerance: 49556643229.91933\n",
      "  model = cd_fast.enet_coordinate_descent_gram(\n",
      "C:\\Users\\emily\\anaconda3\\Lib\\site-packages\\sklearn\\linear_model\\_coordinate_descent.py:617: ConvergenceWarning: Objective did not converge. You might want to increase the number of iterations. Duality gap: 120107263252.09375, tolerance: 49556643229.91933\n",
      "  model = cd_fast.enet_coordinate_descent_gram(\n",
      "C:\\Users\\emily\\anaconda3\\Lib\\site-packages\\sklearn\\linear_model\\_coordinate_descent.py:617: ConvergenceWarning: Objective did not converge. You might want to increase the number of iterations. Duality gap: 118068603038.78125, tolerance: 49556643229.91933\n",
      "  model = cd_fast.enet_coordinate_descent_gram(\n",
      "C:\\Users\\emily\\anaconda3\\Lib\\site-packages\\sklearn\\linear_model\\_coordinate_descent.py:617: ConvergenceWarning: Objective did not converge. You might want to increase the number of iterations. Duality gap: 113400755962.09375, tolerance: 49556643229.91933\n",
      "  model = cd_fast.enet_coordinate_descent_gram(\n",
      "C:\\Users\\emily\\anaconda3\\Lib\\site-packages\\sklearn\\linear_model\\_coordinate_descent.py:617: ConvergenceWarning: Objective did not converge. You might want to increase the number of iterations. Duality gap: 114715634947.15625, tolerance: 49556643229.91933\n",
      "  model = cd_fast.enet_coordinate_descent_gram(\n",
      "C:\\Users\\emily\\anaconda3\\Lib\\site-packages\\sklearn\\linear_model\\_coordinate_descent.py:617: ConvergenceWarning: Objective did not converge. You might want to increase the number of iterations. Duality gap: 111128075818.65625, tolerance: 49556643229.91933\n",
      "  model = cd_fast.enet_coordinate_descent_gram(\n",
      "C:\\Users\\emily\\anaconda3\\Lib\\site-packages\\sklearn\\linear_model\\_coordinate_descent.py:617: ConvergenceWarning: Objective did not converge. You might want to increase the number of iterations. Duality gap: 106548566753.4375, tolerance: 49556643229.91933\n",
      "  model = cd_fast.enet_coordinate_descent_gram(\n",
      "C:\\Users\\emily\\anaconda3\\Lib\\site-packages\\sklearn\\linear_model\\_coordinate_descent.py:617: ConvergenceWarning: Objective did not converge. You might want to increase the number of iterations. Duality gap: 102047012173.4375, tolerance: 49556643229.91933\n",
      "  model = cd_fast.enet_coordinate_descent_gram(\n",
      "C:\\Users\\emily\\anaconda3\\Lib\\site-packages\\sklearn\\linear_model\\_coordinate_descent.py:617: ConvergenceWarning: Objective did not converge. You might want to increase the number of iterations. Duality gap: 114746685316.59375, tolerance: 49556643229.91933\n",
      "  model = cd_fast.enet_coordinate_descent_gram(\n",
      "C:\\Users\\emily\\anaconda3\\Lib\\site-packages\\sklearn\\linear_model\\_coordinate_descent.py:617: ConvergenceWarning: Objective did not converge. You might want to increase the number of iterations. Duality gap: 111338781435.96875, tolerance: 49556643229.91933\n",
      "  model = cd_fast.enet_coordinate_descent_gram(\n",
      "C:\\Users\\emily\\anaconda3\\Lib\\site-packages\\sklearn\\linear_model\\_coordinate_descent.py:617: ConvergenceWarning: Objective did not converge. You might want to increase the number of iterations. Duality gap: 106931865790.125, tolerance: 49556643229.91933\n",
      "  model = cd_fast.enet_coordinate_descent_gram(\n",
      "C:\\Users\\emily\\anaconda3\\Lib\\site-packages\\sklearn\\linear_model\\_coordinate_descent.py:617: ConvergenceWarning: Objective did not converge. You might want to increase the number of iterations. Duality gap: 102652103101.3125, tolerance: 49556643229.91933\n",
      "  model = cd_fast.enet_coordinate_descent_gram(\n",
      "C:\\Users\\emily\\anaconda3\\Lib\\site-packages\\sklearn\\linear_model\\_coordinate_descent.py:617: ConvergenceWarning: Objective did not converge. You might want to increase the number of iterations. Duality gap: 98570508519.09375, tolerance: 49556643229.91933\n",
      "  model = cd_fast.enet_coordinate_descent_gram(\n",
      "C:\\Users\\emily\\anaconda3\\Lib\\site-packages\\sklearn\\linear_model\\_coordinate_descent.py:617: ConvergenceWarning: Objective did not converge. You might want to increase the number of iterations. Duality gap: 94689110173.65625, tolerance: 49556643229.91933\n",
      "  model = cd_fast.enet_coordinate_descent_gram(\n",
      "C:\\Users\\emily\\anaconda3\\Lib\\site-packages\\sklearn\\linear_model\\_coordinate_descent.py:617: ConvergenceWarning: Objective did not converge. You might want to increase the number of iterations. Duality gap: 91004398935.59375, tolerance: 49556643229.91933\n",
      "  model = cd_fast.enet_coordinate_descent_gram(\n",
      "C:\\Users\\emily\\anaconda3\\Lib\\site-packages\\sklearn\\linear_model\\_coordinate_descent.py:617: ConvergenceWarning: Objective did not converge. You might want to increase the number of iterations. Duality gap: 87511587554.0, tolerance: 49556643229.91933\n",
      "  model = cd_fast.enet_coordinate_descent_gram(\n",
      "C:\\Users\\emily\\anaconda3\\Lib\\site-packages\\sklearn\\linear_model\\_coordinate_descent.py:617: ConvergenceWarning: Objective did not converge. You might want to increase the number of iterations. Duality gap: 84205094610.4375, tolerance: 49556643229.91933\n",
      "  model = cd_fast.enet_coordinate_descent_gram(\n",
      "C:\\Users\\emily\\anaconda3\\Lib\\site-packages\\sklearn\\linear_model\\_coordinate_descent.py:617: ConvergenceWarning: Objective did not converge. You might want to increase the number of iterations. Duality gap: 81078755853.6875, tolerance: 49556643229.91933\n",
      "  model = cd_fast.enet_coordinate_descent_gram(\n",
      "C:\\Users\\emily\\anaconda3\\Lib\\site-packages\\sklearn\\linear_model\\_coordinate_descent.py:617: ConvergenceWarning: Objective did not converge. You might want to increase the number of iterations. Duality gap: 78125990861.125, tolerance: 49556643229.91933\n",
      "  model = cd_fast.enet_coordinate_descent_gram(\n",
      "C:\\Users\\emily\\anaconda3\\Lib\\site-packages\\sklearn\\linear_model\\_coordinate_descent.py:617: ConvergenceWarning: Objective did not converge. You might want to increase the number of iterations. Duality gap: 68255374303.5, tolerance: 37587108581.193756\n",
      "  model = cd_fast.enet_coordinate_descent_gram(\n",
      "C:\\Users\\emily\\anaconda3\\Lib\\site-packages\\sklearn\\linear_model\\_coordinate_descent.py:617: ConvergenceWarning: Objective did not converge. You might want to increase the number of iterations. Duality gap: 134389043724.75, tolerance: 37587108581.193756\n",
      "  model = cd_fast.enet_coordinate_descent_gram(\n",
      "C:\\Users\\emily\\anaconda3\\Lib\\site-packages\\sklearn\\linear_model\\_coordinate_descent.py:617: ConvergenceWarning: Objective did not converge. You might want to increase the number of iterations. Duality gap: 136497002372.40625, tolerance: 37587108581.193756\n",
      "  model = cd_fast.enet_coordinate_descent_gram(\n",
      "C:\\Users\\emily\\anaconda3\\Lib\\site-packages\\sklearn\\linear_model\\_coordinate_descent.py:617: ConvergenceWarning: Objective did not converge. You might want to increase the number of iterations. Duality gap: 130692182151.375, tolerance: 37587108581.193756\n",
      "  model = cd_fast.enet_coordinate_descent_gram(\n",
      "C:\\Users\\emily\\anaconda3\\Lib\\site-packages\\sklearn\\linear_model\\_coordinate_descent.py:617: ConvergenceWarning: Objective did not converge. You might want to increase the number of iterations. Duality gap: 124161675870.1875, tolerance: 37587108581.193756\n",
      "  model = cd_fast.enet_coordinate_descent_gram(\n",
      "C:\\Users\\emily\\anaconda3\\Lib\\site-packages\\sklearn\\linear_model\\_coordinate_descent.py:617: ConvergenceWarning: Objective did not converge. You might want to increase the number of iterations. Duality gap: 117793572215.0, tolerance: 37587108581.193756\n",
      "  model = cd_fast.enet_coordinate_descent_gram(\n",
      "C:\\Users\\emily\\anaconda3\\Lib\\site-packages\\sklearn\\linear_model\\_coordinate_descent.py:617: ConvergenceWarning: Objective did not converge. You might want to increase the number of iterations. Duality gap: 111697909137.625, tolerance: 37587108581.193756\n",
      "  model = cd_fast.enet_coordinate_descent_gram(\n",
      "C:\\Users\\emily\\anaconda3\\Lib\\site-packages\\sklearn\\linear_model\\_coordinate_descent.py:617: ConvergenceWarning: Objective did not converge. You might want to increase the number of iterations. Duality gap: 105887099078.40625, tolerance: 37587108581.193756\n",
      "  model = cd_fast.enet_coordinate_descent_gram(\n",
      "C:\\Users\\emily\\anaconda3\\Lib\\site-packages\\sklearn\\linear_model\\_coordinate_descent.py:617: ConvergenceWarning: Objective did not converge. You might want to increase the number of iterations. Duality gap: 139486295410.09375, tolerance: 37587108581.193756\n",
      "  model = cd_fast.enet_coordinate_descent_gram(\n",
      "C:\\Users\\emily\\anaconda3\\Lib\\site-packages\\sklearn\\linear_model\\_coordinate_descent.py:617: ConvergenceWarning: Objective did not converge. You might want to increase the number of iterations. Duality gap: 188722760886.375, tolerance: 37587108581.193756\n",
      "  model = cd_fast.enet_coordinate_descent_gram(\n",
      "C:\\Users\\emily\\anaconda3\\Lib\\site-packages\\sklearn\\linear_model\\_coordinate_descent.py:617: ConvergenceWarning: Objective did not converge. You might want to increase the number of iterations. Duality gap: 189346300352.65625, tolerance: 37587108581.193756\n",
      "  model = cd_fast.enet_coordinate_descent_gram(\n",
      "C:\\Users\\emily\\anaconda3\\Lib\\site-packages\\sklearn\\linear_model\\_coordinate_descent.py:617: ConvergenceWarning: Objective did not converge. You might want to increase the number of iterations. Duality gap: 182082762850.625, tolerance: 37587108581.193756\n",
      "  model = cd_fast.enet_coordinate_descent_gram(\n",
      "C:\\Users\\emily\\anaconda3\\Lib\\site-packages\\sklearn\\linear_model\\_coordinate_descent.py:617: ConvergenceWarning: Objective did not converge. You might want to increase the number of iterations. Duality gap: 174139596710.25, tolerance: 37587108581.193756\n",
      "  model = cd_fast.enet_coordinate_descent_gram(\n",
      "C:\\Users\\emily\\anaconda3\\Lib\\site-packages\\sklearn\\linear_model\\_coordinate_descent.py:617: ConvergenceWarning: Objective did not converge. You might want to increase the number of iterations. Duality gap: 166465592589.84375, tolerance: 37587108581.193756\n",
      "  model = cd_fast.enet_coordinate_descent_gram(\n",
      "C:\\Users\\emily\\anaconda3\\Lib\\site-packages\\sklearn\\linear_model\\_coordinate_descent.py:617: ConvergenceWarning: Objective did not converge. You might want to increase the number of iterations. Duality gap: 159169480958.46875, tolerance: 37587108581.193756\n",
      "  model = cd_fast.enet_coordinate_descent_gram(\n",
      "C:\\Users\\emily\\anaconda3\\Lib\\site-packages\\sklearn\\linear_model\\_coordinate_descent.py:617: ConvergenceWarning: Objective did not converge. You might want to increase the number of iterations. Duality gap: 152254979977.5625, tolerance: 37587108581.193756\n",
      "  model = cd_fast.enet_coordinate_descent_gram(\n",
      "C:\\Users\\emily\\anaconda3\\Lib\\site-packages\\sklearn\\linear_model\\_coordinate_descent.py:617: ConvergenceWarning: Objective did not converge. You might want to increase the number of iterations. Duality gap: 145712024696.375, tolerance: 37587108581.193756\n",
      "  model = cd_fast.enet_coordinate_descent_gram(\n",
      "C:\\Users\\emily\\anaconda3\\Lib\\site-packages\\sklearn\\linear_model\\_coordinate_descent.py:617: ConvergenceWarning: Objective did not converge. You might want to increase the number of iterations. Duality gap: 139528033767.53125, tolerance: 37587108581.193756\n",
      "  model = cd_fast.enet_coordinate_descent_gram(\n",
      "C:\\Users\\emily\\anaconda3\\Lib\\site-packages\\sklearn\\linear_model\\_coordinate_descent.py:617: ConvergenceWarning: Objective did not converge. You might want to increase the number of iterations. Duality gap: 133689514434.09375, tolerance: 37587108581.193756\n",
      "  model = cd_fast.enet_coordinate_descent_gram(\n",
      "C:\\Users\\emily\\anaconda3\\Lib\\site-packages\\sklearn\\linear_model\\_coordinate_descent.py:617: ConvergenceWarning: Objective did not converge. You might want to increase the number of iterations. Duality gap: 128182473240.09375, tolerance: 37587108581.193756\n",
      "  model = cd_fast.enet_coordinate_descent_gram(\n",
      "C:\\Users\\emily\\anaconda3\\Lib\\site-packages\\sklearn\\linear_model\\_coordinate_descent.py:617: ConvergenceWarning: Objective did not converge. You might want to increase the number of iterations. Duality gap: 122992647809.46875, tolerance: 37587108581.193756\n",
      "  model = cd_fast.enet_coordinate_descent_gram(\n",
      "C:\\Users\\emily\\anaconda3\\Lib\\site-packages\\sklearn\\linear_model\\_coordinate_descent.py:617: ConvergenceWarning: Objective did not converge. You might want to increase the number of iterations. Duality gap: 118105684820.9375, tolerance: 37587108581.193756\n",
      "  model = cd_fast.enet_coordinate_descent_gram(\n",
      "C:\\Users\\emily\\anaconda3\\Lib\\site-packages\\sklearn\\linear_model\\_coordinate_descent.py:617: ConvergenceWarning: Objective did not converge. You might want to increase the number of iterations. Duality gap: 113507282852.6875, tolerance: 37587108581.193756\n",
      "  model = cd_fast.enet_coordinate_descent_gram(\n",
      "C:\\Users\\emily\\anaconda3\\Lib\\site-packages\\sklearn\\linear_model\\_coordinate_descent.py:617: ConvergenceWarning: Objective did not converge. You might want to increase the number of iterations. Duality gap: 109183308723.25, tolerance: 37587108581.193756\n",
      "  model = cd_fast.enet_coordinate_descent_gram(\n",
      "C:\\Users\\emily\\anaconda3\\Lib\\site-packages\\sklearn\\linear_model\\_coordinate_descent.py:617: ConvergenceWarning: Objective did not converge. You might want to increase the number of iterations. Duality gap: 105119889312.4375, tolerance: 37587108581.193756\n",
      "  model = cd_fast.enet_coordinate_descent_gram(\n",
      "C:\\Users\\emily\\anaconda3\\Lib\\site-packages\\sklearn\\linear_model\\_coordinate_descent.py:617: ConvergenceWarning: Objective did not converge. You might want to increase the number of iterations. Duality gap: 101303484646.46875, tolerance: 37587108581.193756\n",
      "  model = cd_fast.enet_coordinate_descent_gram(\n",
      "C:\\Users\\emily\\anaconda3\\Lib\\site-packages\\sklearn\\linear_model\\_coordinate_descent.py:617: ConvergenceWarning: Objective did not converge. You might want to increase the number of iterations. Duality gap: 97720943311.34375, tolerance: 37587108581.193756\n",
      "  model = cd_fast.enet_coordinate_descent_gram(\n",
      "C:\\Users\\emily\\anaconda3\\Lib\\site-packages\\sklearn\\linear_model\\_coordinate_descent.py:617: ConvergenceWarning: Objective did not converge. You might want to increase the number of iterations. Duality gap: 131391753652.71875, tolerance: 36580566285.04819\n",
      "  model = cd_fast.enet_coordinate_descent_gram(\n",
      "C:\\Users\\emily\\anaconda3\\Lib\\site-packages\\sklearn\\linear_model\\_coordinate_descent.py:617: ConvergenceWarning: Objective did not converge. You might want to increase the number of iterations. Duality gap: 287883641498.40625, tolerance: 36580566285.04819\n",
      "  model = cd_fast.enet_coordinate_descent_gram(\n",
      "C:\\Users\\emily\\anaconda3\\Lib\\site-packages\\sklearn\\linear_model\\_coordinate_descent.py:617: ConvergenceWarning: Objective did not converge. You might want to increase the number of iterations. Duality gap: 300356309892.1875, tolerance: 36580566285.04819\n",
      "  model = cd_fast.enet_coordinate_descent_gram(\n",
      "C:\\Users\\emily\\anaconda3\\Lib\\site-packages\\sklearn\\linear_model\\_coordinate_descent.py:617: ConvergenceWarning: Objective did not converge. You might want to increase the number of iterations. Duality gap: 391265419235.46875, tolerance: 36580566285.04819\n",
      "  model = cd_fast.enet_coordinate_descent_gram(\n",
      "C:\\Users\\emily\\anaconda3\\Lib\\site-packages\\sklearn\\linear_model\\_coordinate_descent.py:617: ConvergenceWarning: Objective did not converge. You might want to increase the number of iterations. Duality gap: 399331412013.5, tolerance: 36580566285.04819\n",
      "  model = cd_fast.enet_coordinate_descent_gram(\n",
      "C:\\Users\\emily\\anaconda3\\Lib\\site-packages\\sklearn\\linear_model\\_coordinate_descent.py:617: ConvergenceWarning: Objective did not converge. You might want to increase the number of iterations. Duality gap: 390743561621.46875, tolerance: 36580566285.04819\n",
      "  model = cd_fast.enet_coordinate_descent_gram(\n",
      "C:\\Users\\emily\\anaconda3\\Lib\\site-packages\\sklearn\\linear_model\\_coordinate_descent.py:617: ConvergenceWarning: Objective did not converge. You might want to increase the number of iterations. Duality gap: 379330769571.5625, tolerance: 36580566285.04819\n",
      "  model = cd_fast.enet_coordinate_descent_gram(\n",
      "C:\\Users\\emily\\anaconda3\\Lib\\site-packages\\sklearn\\linear_model\\_coordinate_descent.py:617: ConvergenceWarning: Objective did not converge. You might want to increase the number of iterations. Duality gap: 284191546671.4375, tolerance: 36580566285.04819\n",
      "  model = cd_fast.enet_coordinate_descent_gram(\n",
      "C:\\Users\\emily\\anaconda3\\Lib\\site-packages\\sklearn\\linear_model\\_coordinate_descent.py:617: ConvergenceWarning: Objective did not converge. You might want to increase the number of iterations. Duality gap: 225913666512.84375, tolerance: 36580566285.04819\n",
      "  model = cd_fast.enet_coordinate_descent_gram(\n",
      "C:\\Users\\emily\\anaconda3\\Lib\\site-packages\\sklearn\\linear_model\\_coordinate_descent.py:617: ConvergenceWarning: Objective did not converge. You might want to increase the number of iterations. Duality gap: 212856777622.40625, tolerance: 36580566285.04819\n",
      "  model = cd_fast.enet_coordinate_descent_gram(\n",
      "C:\\Users\\emily\\anaconda3\\Lib\\site-packages\\sklearn\\linear_model\\_coordinate_descent.py:617: ConvergenceWarning: Objective did not converge. You might want to increase the number of iterations. Duality gap: 222735796127.375, tolerance: 36580566285.04819\n",
      "  model = cd_fast.enet_coordinate_descent_gram(\n",
      "C:\\Users\\emily\\anaconda3\\Lib\\site-packages\\sklearn\\linear_model\\_coordinate_descent.py:617: ConvergenceWarning: Objective did not converge. You might want to increase the number of iterations. Duality gap: 313349194177.5625, tolerance: 36580566285.04819\n",
      "  model = cd_fast.enet_coordinate_descent_gram(\n",
      "C:\\Users\\emily\\anaconda3\\Lib\\site-packages\\sklearn\\linear_model\\_coordinate_descent.py:617: ConvergenceWarning: Objective did not converge. You might want to increase the number of iterations. Duality gap: 278289495870.46875, tolerance: 36580566285.04819\n",
      "  model = cd_fast.enet_coordinate_descent_gram(\n",
      "C:\\Users\\emily\\anaconda3\\Lib\\site-packages\\sklearn\\linear_model\\_coordinate_descent.py:617: ConvergenceWarning: Objective did not converge. You might want to increase the number of iterations. Duality gap: 233224566016.5625, tolerance: 36580566285.04819\n",
      "  model = cd_fast.enet_coordinate_descent_gram(\n",
      "C:\\Users\\emily\\anaconda3\\Lib\\site-packages\\sklearn\\linear_model\\_coordinate_descent.py:617: ConvergenceWarning: Objective did not converge. You might want to increase the number of iterations. Duality gap: 216882853299.875, tolerance: 36580566285.04819\n",
      "  model = cd_fast.enet_coordinate_descent_gram(\n",
      "C:\\Users\\emily\\anaconda3\\Lib\\site-packages\\sklearn\\linear_model\\_coordinate_descent.py:617: ConvergenceWarning: Objective did not converge. You might want to increase the number of iterations. Duality gap: 206600896753.5, tolerance: 36580566285.04819\n",
      "  model = cd_fast.enet_coordinate_descent_gram(\n",
      "C:\\Users\\emily\\anaconda3\\Lib\\site-packages\\sklearn\\linear_model\\_coordinate_descent.py:617: ConvergenceWarning: Objective did not converge. You might want to increase the number of iterations. Duality gap: 197538987392.25, tolerance: 36580566285.04819\n",
      "  model = cd_fast.enet_coordinate_descent_gram(\n",
      "C:\\Users\\emily\\anaconda3\\Lib\\site-packages\\sklearn\\linear_model\\_coordinate_descent.py:617: ConvergenceWarning: Objective did not converge. You might want to increase the number of iterations. Duality gap: 188897727333.6875, tolerance: 36580566285.04819\n",
      "  model = cd_fast.enet_coordinate_descent_gram(\n",
      "C:\\Users\\emily\\anaconda3\\Lib\\site-packages\\sklearn\\linear_model\\_coordinate_descent.py:617: ConvergenceWarning: Objective did not converge. You might want to increase the number of iterations. Duality gap: 180603167047.125, tolerance: 36580566285.04819\n",
      "  model = cd_fast.enet_coordinate_descent_gram(\n",
      "C:\\Users\\emily\\anaconda3\\Lib\\site-packages\\sklearn\\linear_model\\_coordinate_descent.py:617: ConvergenceWarning: Objective did not converge. You might want to increase the number of iterations. Duality gap: 172655102610.875, tolerance: 36580566285.04819\n",
      "  model = cd_fast.enet_coordinate_descent_gram(\n",
      "C:\\Users\\emily\\anaconda3\\Lib\\site-packages\\sklearn\\linear_model\\_coordinate_descent.py:617: ConvergenceWarning: Objective did not converge. You might want to increase the number of iterations. Duality gap: 165057058131.625, tolerance: 36580566285.04819\n",
      "  model = cd_fast.enet_coordinate_descent_gram(\n",
      "C:\\Users\\emily\\anaconda3\\Lib\\site-packages\\sklearn\\linear_model\\_coordinate_descent.py:617: ConvergenceWarning: Objective did not converge. You might want to increase the number of iterations. Duality gap: 157809538551.40625, tolerance: 36580566285.04819\n",
      "  model = cd_fast.enet_coordinate_descent_gram(\n",
      "C:\\Users\\emily\\anaconda3\\Lib\\site-packages\\sklearn\\linear_model\\_coordinate_descent.py:617: ConvergenceWarning: Objective did not converge. You might want to increase the number of iterations. Duality gap: 150909953774.75, tolerance: 36580566285.04819\n",
      "  model = cd_fast.enet_coordinate_descent_gram(\n",
      "C:\\Users\\emily\\anaconda3\\Lib\\site-packages\\sklearn\\linear_model\\_coordinate_descent.py:617: ConvergenceWarning: Objective did not converge. You might want to increase the number of iterations. Duality gap: 144353156511.65625, tolerance: 36580566285.04819\n",
      "  model = cd_fast.enet_coordinate_descent_gram(\n",
      "C:\\Users\\emily\\anaconda3\\Lib\\site-packages\\sklearn\\linear_model\\_coordinate_descent.py:617: ConvergenceWarning: Objective did not converge. You might want to increase the number of iterations. Duality gap: 138131963395.125, tolerance: 36580566285.04819\n",
      "  model = cd_fast.enet_coordinate_descent_gram(\n",
      "C:\\Users\\emily\\anaconda3\\Lib\\site-packages\\sklearn\\linear_model\\_coordinate_descent.py:617: ConvergenceWarning: Objective did not converge. You might want to increase the number of iterations. Duality gap: 132237601979.4375, tolerance: 36580566285.04819\n",
      "  model = cd_fast.enet_coordinate_descent_gram(\n",
      "C:\\Users\\emily\\anaconda3\\Lib\\site-packages\\sklearn\\linear_model\\_coordinate_descent.py:617: ConvergenceWarning: Objective did not converge. You might want to increase the number of iterations. Duality gap: 126660086866.375, tolerance: 36580566285.04819\n",
      "  model = cd_fast.enet_coordinate_descent_gram(\n",
      "C:\\Users\\emily\\anaconda3\\Lib\\site-packages\\sklearn\\linear_model\\_coordinate_descent.py:617: ConvergenceWarning: Objective did not converge. You might want to increase the number of iterations. Duality gap: 121388537935.34375, tolerance: 36580566285.04819\n",
      "  model = cd_fast.enet_coordinate_descent_gram(\n",
      "C:\\Users\\emily\\anaconda3\\Lib\\site-packages\\sklearn\\linear_model\\_coordinate_descent.py:617: ConvergenceWarning: Objective did not converge. You might want to increase the number of iterations. Duality gap: 177887294144.71875, tolerance: 36580566285.04819\n",
      "  model = cd_fast.enet_coordinate_descent_gram(\n",
      "C:\\Users\\emily\\anaconda3\\Lib\\site-packages\\sklearn\\linear_model\\_coordinate_descent.py:617: ConvergenceWarning: Objective did not converge. You might want to increase the number of iterations. Duality gap: 262734694466.875, tolerance: 36580566285.04819\n",
      "  model = cd_fast.enet_coordinate_descent_gram(\n"
     ]
    },
    {
     "data": {
      "text/plain": [
       "0.016688192898308585"
      ]
     },
     "execution_count": 22,
     "metadata": {},
     "output_type": "execute_result"
    }
   ],
   "source": [
    "# Well that was terrible.  Let's try regularization\n",
    "ss = StandardScaler()\n",
    "a = np.linspace(0.1, 50, 200)\n",
    "lasso = LassoCV()\n",
    "pipe = Pipeline([('ss', ss), ('lasso', lasso)])\n",
    "pipe.fit(X_train, y_train)\n",
    "pipe.score(X_train, y_train)\n",
    "pipe.score(X_test, y_test)"
   ]
  },
  {
   "cell_type": "code",
   "execution_count": 23,
   "id": "359e9813-aa5d-4c6f-83f5-8f8c286bc233",
   "metadata": {},
   "outputs": [
    {
     "data": {
      "text/plain": [
       "[('p1', 0.0),\n",
       " ('p2', 0.0),\n",
       " ('p3', -0.0),\n",
       " ('p4', 0.0),\n",
       " ('p5', -0.0),\n",
       " ('p6', 0.0),\n",
       " ('p7', 0.0),\n",
       " ('p8', -0.0),\n",
       " ('p9', -0.0),\n",
       " ('p10', -0.0),\n",
       " ('p11', 0.0),\n",
       " ('p12', -0.0),\n",
       " ('p13', -0.0),\n",
       " ('p14', -0.0),\n",
       " ('p15', -0.0),\n",
       " ('p16', -0.0),\n",
       " ('p17', 0.0),\n",
       " ('p18', -0.0),\n",
       " ('p19', 0.0),\n",
       " ('p20', -0.0),\n",
       " ('p21', 0.0),\n",
       " ('p22', 0.0),\n",
       " ('p23', 0.0),\n",
       " ('p24', -0.0),\n",
       " ('p25', 0.0),\n",
       " ('p26', -0.0),\n",
       " ('p27', -0.0),\n",
       " ('p28', 0.0),\n",
       " ('p29', -0.0),\n",
       " ('p30', -0.0),\n",
       " ('p31', -0.0),\n",
       " ('p32', -0.0),\n",
       " ('p33', -0.0),\n",
       " ('p34', -0.0),\n",
       " ('p35', -0.0),\n",
       " ('p36', -0.0),\n",
       " ('p37', -0.0),\n",
       " ('fc_type', 0.0),\n",
       " ('city_group_ohe', 0.0),\n",
       " ('year', -173242.13321384642),\n",
       " ('month', 0.0)]"
      ]
     },
     "execution_count": 23,
     "metadata": {},
     "output_type": "execute_result"
    }
   ],
   "source": [
    "# Coefficients??\n",
    "list(zip(X_train.columns, lasso.coef_))\n",
    "# Good grief, everything is 0 except year, \n",
    "# and year is negative."
   ]
  },
  {
   "cell_type": "code",
   "execution_count": 24,
   "id": "d88e4342-3a1b-4095-88e4-0a798cf14369",
   "metadata": {},
   "outputs": [
    {
     "data": {
      "text/plain": [
       "array([-171386.19105246])"
      ]
     },
     "execution_count": 24,
     "metadata": {},
     "output_type": "execute_result"
    }
   ],
   "source": [
    "# SLRs\n",
    "# year\n",
    "lr_year = lr.fit(X_train[['year']], y_train)\n",
    "lr_year.score(X_train[['year']], y_train)\n",
    "lr_year.score(X_test[['year']], y_test)\n",
    "lr_year.coef_"
   ]
  },
  {
   "cell_type": "code",
   "execution_count": 25,
   "id": "da4c3202-45ba-426e-8ba5-1af3d6f4ad5c",
   "metadata": {},
   "outputs": [
    {
     "data": {
      "text/plain": [
       "0.0"
      ]
     },
     "execution_count": 25,
     "metadata": {},
     "output_type": "execute_result"
    }
   ],
   "source": [
    "# food court or not\n",
    "logr = LogisticRegression()\n",
    "logr_fc = logr.fit(X_train[['fc_type']], y_train)\n",
    "logr_fc.score(X_train[['fc_type']], y_train)\n",
    "logr_fc.score(X_test[['fc_type']], y_test)"
   ]
  },
  {
   "cell_type": "code",
   "execution_count": 26,
   "id": "583ea1a9-8230-481a-93ae-f03ca4a148a2",
   "metadata": {},
   "outputs": [],
   "source": [
    "# Get some predictions\n",
    "# full model\n",
    "pipe_preds_X_train = pipe.predict(X_train)\n",
    "pipe_preds_X_test = pipe.predict(X_test)"
   ]
  },
  {
   "cell_type": "code",
   "execution_count": 27,
   "id": "f09681d3-8ece-48f8-acae-13e7c8a33b2b",
   "metadata": {},
   "outputs": [],
   "source": [
    "# SLR\n",
    "lr_year_preds_X_train = lr_year.predict(X_train[['year']])\n",
    "lr_year_preds_X_test = lr_year.predict(X_test[['year']])"
   ]
  },
  {
   "cell_type": "code",
   "execution_count": 28,
   "id": "d88a0d7e-7af8-416e-9497-e1b36b0d0428",
   "metadata": {},
   "outputs": [
    {
     "name": "stdout",
     "output_type": "stream",
     "text": [
      "\n",
      "Full model, training set: 4891874257132.587\n",
      "Full model, testing set: 11995032646679.521\n",
      "Year only, training set: 4602303922794.159\n",
      "Year only, testing set: 11045386798843.324\n"
     ]
    }
   ],
   "source": [
    "# RMSE\n",
    "print(f'''\n",
    "Full model, training set: {mean_squared_error(y_train, pipe_preds_X_train)}\n",
    "Full model, testing set: {mean_squared_error(y_test, pipe_preds_X_test)}\n",
    "Year only, training set: {mean_squared_error(y_train, lr_year_preds_X_train)}\n",
    "Year only, testing set: {mean_squared_error(y_test, lr_year_preds_X_test)}''')"
   ]
  },
  {
   "cell_type": "markdown",
   "id": "9bb0fdcf-539d-40a3-b070-986d3b168039",
   "metadata": {},
   "source": [
    "In conclusion, the best way to make money in the restaurant industry is to master time travel first."
   ]
  }
 ],
 "metadata": {
  "kernelspec": {
   "display_name": "Python 3 (ipykernel)",
   "language": "python",
   "name": "python3"
  },
  "language_info": {
   "codemirror_mode": {
    "name": "ipython",
    "version": 3
   },
   "file_extension": ".py",
   "mimetype": "text/x-python",
   "name": "python",
   "nbconvert_exporter": "python",
   "pygments_lexer": "ipython3",
   "version": "3.11.7"
  }
 },
 "nbformat": 4,
 "nbformat_minor": 5
}
